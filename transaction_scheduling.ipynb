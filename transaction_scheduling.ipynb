{
 "cells": [
  {
   "cell_type": "code",
   "execution_count": null,
   "id": "5d4d3f75-19b5-412e-82a6-983a1256e61b",
   "metadata": {
    "tags": []
   },
   "outputs": [],
   "source": [
    "# Importing standard Qiskit libraries\n",
    "from qiskit import QuantumCircuit, transpile\n",
    "from qiskit.tools.jupyter import *\n",
    "from qiskit.visualization import *\n",
    "from ibm_quantum_widgets import *\n",
    "\n",
    "# qiskit-ibmq-provider has been deprecated.\n",
    "# Please see the Migration Guides in https://ibm.biz/provider_migration_guide for more detail.\n",
    "from qiskit_ibm_runtime import QiskitRuntimeService, Sampler, Estimator, Session, Options\n",
    "\n",
    "# Loading your IBM Quantum account(s)\n",
    "service = QiskitRuntimeService(channel=\"ibm_quantum\")\n",
    "\n",
    "# Invoke a primitive. For more details see https://docs.quantum-computing.ibm.com/run/primitives\n",
    "# result = Sampler().run(circuits).result()"
   ]
  },
  {
   "cell_type": "code",
   "execution_count": null,
   "id": "0d2eb2ab-9ece-4550-a73a-b084c69215cf",
   "metadata": {
    "tags": []
   },
   "outputs": [],
   "source": [
    "import torch\n",
    "import torch.nn as nn\n",
    "import numpy as np\n",
    "import pandas as pd\n",
    "from qiskit import QuantumCircuit, Aer, execute\n",
    "from qiskit.circuit.exceptions import CircuitError\n",
    "from qiskit.visualization import plot_histogram\n",
    "import matplotlib.pyplot as plt\n",
    "\n",
    "# Define the Quantum Circuit\n",
    "def create_quantum_circuit(num_qubits, depth):\n",
    "    circuit = QuantumCircuit(num_qubits)\n",
    "\n",
    "    for _ in range(depth):\n",
    "        for qubit in range(num_qubits):\n",
    "            circuit.rx(2 * np.pi * np.random.rand(), qubit)\n",
    "            circuit.rz(2 * np.pi * np.random.rand(), qubit)\n",
    "            target_qubit = (qubit + np.random.randint(1, num_qubits)) % num_qubits\n",
    "            circuit.cx(qubit, target_qubit)\n",
    "\n",
    "    return circuit\n",
    "\n",
    "\n",
    "# Load your dataset from a txt file\n",
    "dataset_path = 'SchedulingWithoutConflicts_n16_m3.txt'\n",
    "\n",
    "# Read each line from the text file and process data\n",
    "data_lists = []\n",
    "\n",
    "with open(dataset_path, 'r') as file:\n",
    "    lines = file.readlines()\n",
    "\n",
    "# Ensure each line has a valid syntax\n",
    "for i, line in enumerate(lines):\n",
    "    try:\n",
    "        line = line.strip()[1:-1]  # Remove the leading '[' and trailing ']'\n",
    "        data_list = [list(map(float, sublist.split(','))) for sublist in line.split('] [')]\n",
    "        if len(data_list) >= 2:  # Check if data_list has the required length\n",
    "            data_lists.append(data_list)\n",
    "        else:\n",
    "            print(f\"Error in line {i + 1}: Insufficient data in line\")\n",
    "            print(f\"Line content: {line}\")\n",
    "    except Exception as e:\n",
    "        print(f\"Error in line {i + 1}: {e}\")\n",
    "        print(f\"Line content: {line}\")\n",
    "\n",
    "        \n",
    "# Check lengths before creating DataFrame\n",
    "transaction_lengths_lengths = [len(data_list[0]) for data_list in data_lists]\n",
    "optimal_assignment_lengths = [len(data_list[1]) if len(data_list) >= 2 else 0 for data_list in data_lists]\n",
    "\n",
    "# Print lengths for lines where lengths are inconsistent\n",
    "for i, (t_length, o_length) in enumerate(zip(transaction_lengths_lengths, optimal_assignment_lengths)):\n",
    "    if t_length != 16 or o_length != 16:\n",
    "        print(f\"Line {i + 1}: transaction_length: {t_length}, optimal_assignment: {o_length}\")\n",
    "        print(f\"Line content: {lines[i].strip()}\")\n",
    "\n",
    "\n",
    "# Create a DataFrame from the lists\n",
    "df = pd.DataFrame({\n",
    "    'transaction_length': [max(data_list[0]) for data_list in data_lists],  \n",
    "    'optimal_assignment': [data_list[1] if len(data_list) >= 2 else [] for data_list in data_lists]\n",
    "})\n",
    "\n",
    "\n",
    "# Amplitude Encoding. use transaction lengths as amplitudes.    \n",
    "#def amplitude_encoding(circuit, normalized_lengths, qubits):\n",
    "#    for i, amplitude in enumerate(normalized_lengths):\n",
    "#        circuit.ry(2 * np.arcsin(np.sqrt(amplitude)), qubits[i])\n",
    "\n",
    "# Amplitude Encoding. use transaction lengths as amplitudes. \n",
    "def amplitude_encoding(circuit, normalized_lengths, qubits):\n",
    "    #print(\"Amplitude Encoding executed\")\n",
    "    for i, amplitude in enumerate(normalized_lengths):\n",
    "        if amplitude == 1.0:\n",
    "            circuit.rx(0.0, qubits[i])  # If amplitude is 1, set angle to 0\n",
    "        else:\n",
    "            # Ensure amplitude is within the valid range [-1, 1]\n",
    "            amplitude = max(min(amplitude, 1.0), -1.0)\n",
    "            \n",
    "            # Use arcsin only if amplitude is not NaN\n",
    "            if not np.isnan(amplitude):\n",
    "                circuit.ry(2 * np.arcsin(np.sqrt(amplitude)), qubits[i])\n",
    "            else:\n",
    "                print(f\"Warning: NaN amplitude encountered at qubit {i}. Setting angle to 0.\")\n",
    "                circuit.rx(0.0, qubits[i])\n",
    "        \n",
    "        \n",
    "# Create the VQC Model\n",
    "class QuantumModel(nn.Module):\n",
    "    def __init__(self, num_qubits):\n",
    "        super(QuantumModel, self).__init__()\n",
    "        self.num_qubits = num_qubits\n",
    "        self.theta = nn.Parameter(torch.rand(num_qubits, requires_grad=True))\n",
    "\n",
    "    def forward(self, quantum_circuit, params):\n",
    "        # Execute quantum circuit and obtain expectation value\n",
    "        quantum_circuit.assign_parameters({self.theta: params})\n",
    "        return quantum_circuit.expectation_value()\n",
    "\n",
    "    \n",
    "    \n",
    "# Train the quantum model using PyTorch's optimization techniques\n",
    "num_samples = len(data_lists)\n",
    "num_qubits = 4\n",
    "depth = 3\n",
    "\n",
    "model = QuantumModel(num_qubits)\n",
    "optimizer = torch.optim.Adam(model.parameters(), lr=0.01)\n",
    "\n",
    "\n",
    "# Inside the training loop\n",
    "for epoch in range(100):\n",
    "    total_loss = 0.0  # Initialize total loss for the epoch\n",
    "    for sample_index in range(num_samples):\n",
    "        #print(f\"Processing sample {sample_index} in epoch {epoch}\")\n",
    "\n",
    "        # Create a new quantum circuit for each sample\n",
    "        quantum_circuit = create_quantum_circuit(num_qubits, depth)\n",
    "\n",
    "        # Encode the amplitudes based on the normalized lengths\n",
    "        amplitude_encoding(quantum_circuit, [max(data_lists[sample_index][0])], list(range(num_qubits)))\n",
    "\n",
    "        # Convert the quantum circuit to a statevector simulator\n",
    "        simulator = Aer.get_backend('statevector_simulator')\n",
    "\n",
    "        # Set the parameters in the quantum circuit based on optimization results\n",
    "        max_length = max(data_lists[sample_index][0])\n",
    "        normalized_lengths = [length / max_length for length in data_lists[sample_index][0]]\n",
    "        params = torch.tensor(normalized_lengths, dtype=torch.float32).requires_grad_(True)\n",
    "\n",
    "        try:\n",
    "            # Update the parameters in the quantum circuit\n",
    "            for i in range(num_qubits):\n",
    "                quantum_circuit.data[2 * i + 1][0].params = [params[i].item()]\n",
    "\n",
    "            result = execute(quantum_circuit, simulator).result()\n",
    "            statevector = result.get_statevector()\n",
    "\n",
    "            # Calculate the expectation value directly without using the QuantumModel forward\n",
    "            expectation_value = np.vdot(statevector, statevector).real\n",
    "            loss = -torch.tensor(expectation_value, dtype=torch.float32, requires_grad=True)\n",
    "        except CircuitError as e:\n",
    "            print(f\"Error in sample {sample_index}: {e}\")\n",
    "            continue\n",
    "\n",
    "        optimizer.zero_grad()\n",
    "        loss.backward()\n",
    "        optimizer.step()\n",
    "\n",
    "        total_loss += loss.item()  # Accumulate the loss for this sample\n",
    "    \n",
    "    if epoch % 10 == 0:\n",
    "        average_loss = total_loss / num_samples\n",
    "        print(f'Epoch {epoch}, Average Loss: {average_loss}')\n",
    "      \n",
    "\n",
    "        \n",
    "# Visualize the final Quantum Circuit\n",
    "quantum_circuit = create_quantum_circuit(num_qubits, depth)\n",
    "print(\"Quantum Circuit created\")\n",
    "amplitude_encoding(quantum_circuit, [max(data_lists[0][0])], quantum_circuit.qubits)\n",
    "quantum_circuit.draw(output='mpl')\n",
    "plt.show()\n",
    "\n",
    "# Visualize the final statevector\n",
    "result = execute(quantum_circuit, simulator).result()\n",
    "statevector = result.get_statevector()\n",
    "plot_histogram(result.get_counts())\n",
    "plt.show()\n"
   ]
  },
  {
   "cell_type": "code",
   "execution_count": 32,
   "id": "d1867c91-0ae3-4c40-b2f7-9e1cb11b78ff",
   "metadata": {
    "tags": []
   },
   "outputs": [
    {
     "data": {
      "text/plain": [
       "<All keys matched successfully>"
      ]
     },
     "execution_count": 32,
     "metadata": {},
     "output_type": "execute_result"
    }
   ],
   "source": [
    "# Save the model after training\n",
    "torch.save(model.state_dict(), 'trained_model.pth')\n",
    "\n",
    "# Load the model for inference\n",
    "loaded_model = QuantumModel(num_qubits)\n",
    "loaded_model.load_state_dict(torch.load('trained_model.pth'))\n"
   ]
  },
  {
   "cell_type": "code",
   "execution_count": 33,
   "id": "cf566007-c3f9-4b6b-9af9-546d0088a50e",
   "metadata": {},
   "outputs": [],
   "source": [
    "#Prepare Input for Inference:\n",
    "def encode_for_inference(circuit, length, qubits):\n",
    "    amplitude_encoding(circuit, [length], qubits)"
   ]
  },
  {
   "cell_type": "code",
   "execution_count": 34,
   "id": "60de2892-f135-48bb-8fb9-d7289747d1c6",
   "metadata": {
    "tags": []
   },
   "outputs": [],
   "source": [
    "#Use the loaded model to perform inference on the quantum circuit.\n",
    "def estimate_optimal_assignment(model, quantum_circuit, transaction_length):\n",
    "    # Encode the transaction length\n",
    "    encode_for_inference(quantum_circuit, transaction_length, list(range(num_qubits)))\n",
    "\n",
    "    # Execute the quantum circuit\n",
    "    simulator = Aer.get_backend('statevector_simulator')\n",
    "    result = execute(quantum_circuit, simulator).result()\n",
    "    statevector = result.get_statevector()\n",
    "\n",
    "    # Calculate the expectation value\n",
    "    expectation_value = np.vdot(statevector, statevector).real\n",
    "\n",
    "    # Return the estimated optimal assignment\n",
    "    return -expectation_value\n"
   ]
  },
  {
   "cell_type": "code",
   "execution_count": 35,
   "id": "7060daf2-776c-4c3b-911d-03dad9f08964",
   "metadata": {
    "tags": []
   },
   "outputs": [
    {
     "name": "stdout",
     "output_type": "stream",
     "text": [
      "Amplitude Encoding executed\n",
      "Estimated Optimal Assignment: -0.9999999999999999\n"
     ]
    }
   ],
   "source": [
    "# Estimate optimal assignment for a given transaction length\n",
    "transaction_length = 16  # (what should be the value here ? ) transaction length\n",
    "quantum_circuit = create_quantum_circuit(num_qubits, depth)\n",
    "\n",
    "# Perform inference\n",
    "estimated_optimal_assignment = estimate_optimal_assignment(loaded_model, quantum_circuit, transaction_length)\n",
    "\n",
    "print(f\"Estimated Optimal Assignment: {estimated_optimal_assignment}\")\n"
   ]
  },
  {
   "cell_type": "code",
   "execution_count": null,
   "id": "91c4f1af-5b8a-4cbc-a706-73d891630164",
   "metadata": {},
   "outputs": [],
   "source": []
  },
  {
   "cell_type": "code",
   "execution_count": 37,
   "id": "e401c87e-fe18-470e-b21b-ed6b1601a037",
   "metadata": {},
   "outputs": [
    {
     "name": "stdout",
     "output_type": "stream",
     "text": [
      "Amplitude Encoding executed\n",
      "Traceback \u001b[1;36m(most recent call last)\u001b[0m:\n",
      "\u001b[0m  Cell \u001b[0;32mIn[37], line 11\u001b[0m\n",
      "    amplitude_encoding(quantum_circuit, given_transaction_lengths, list(range(num_qubits)))\u001b[0m\n",
      "\u001b[1;36m  Cell \u001b[1;32mIn[29], line 83\u001b[1;36m in \u001b[1;35mamplitude_encoding\u001b[1;36m\n",
      "\u001b[1;33m    circuit.ry(2 * np.arcsin(np.sqrt(amplitude)), qubits[i])\u001b[1;36m\n",
      "\u001b[1;31mIndexError\u001b[0m\u001b[1;31m:\u001b[0m list index out of range\n",
      "\n",
      "Use %tb to get the full traceback.\n"
     ]
    },
    {
     "data": {
      "text/html": [
       "\n",
       "<style>\n",
       ".button {\n",
       "  border: none;\n",
       "  color: white;\n",
       "  padding: 4px 8px;\n",
       "  text-align: center;\n",
       "  text-decoration: none;\n",
       "  display: inline-block;\n",
       "  font-size: 12px;\n",
       "  margin: 4px 2px;\n",
       "  transition-duration: 0.2s;\n",
       "  cursor: pointer;\n",
       "}\n",
       ".iqx-button {\n",
       "  background-color: #0f62fe; \n",
       "  color: white; \n",
       "}\n",
       ".iqx-button:hover {\n",
       "  background-color: #0043ce;\n",
       "  color: white;\n",
       "}\n",
       "</style>\n",
       "<a href=\"https://stackoverflow.com/search?q=IndexError: list index out of range\" target='_blank'><button class='button iqx-button'>Search for solution online</button></a>\n"
      ],
      "text/plain": [
       "<IPython.core.display.HTML object>"
      ]
     },
     "metadata": {},
     "output_type": "display_data"
    }
   ],
   "source": [
    "# Assuming your model is already trained and stored in the 'model' variable\n",
    "\n",
    "# Given transaction lengths\n",
    "#given_transaction_lengths = [132.858,125.741,138.806,125.827,134.003,139.252,134.006,129.873,137.17,135.238,149.43,136.5,141.289,139.537,132.815,131.274]  # Replace with actual lengths\n",
    "given_transaction_lengths = [315.688,235.425,382.758,236.392,328.601,387.794,328.629,282.025,364.31,342.529,502.579,356.756,410.764,391.003,315.199,297.816]\n",
    "\n",
    "# Create a new quantum circuit\n",
    "quantum_circuit = create_quantum_circuit(num_qubits, depth)\n",
    "\n",
    "# Encode transaction lengths using the trained model\n",
    "amplitude_encoding(quantum_circuit, given_transaction_lengths, list(range(num_qubits)))\n",
    "\n",
    "# Execute the quantum circuit\n",
    "simulator = Aer.get_backend('statevector_simulator')\n",
    "result = execute(quantum_circuit, simulator).result()\n",
    "statevector = result.get_statevector()\n",
    "\n",
    "# Extract information and estimate optimal assignment (modify as needed)\n",
    "estimated_assignment = some_function_to_extract_optimal_assignment(statevector)\n",
    "\n",
    "# Print or use the estimated assignment\n",
    "print(f\"Estimated Optimal Assignment: {estimated_assignment}\")\n"
   ]
  },
  {
   "cell_type": "code",
   "execution_count": 43,
   "id": "028392f4-f65e-4024-a779-5e7dcf628612",
   "metadata": {
    "tags": []
   },
   "outputs": [
    {
     "name": "stdout",
     "output_type": "stream",
     "text": [
      "Number of qubits in quantum circuit: 4\n",
      "Amplitude Encoding executed\n",
      "Number of qubits before encoding: 4\n",
      "Amplitude Encoding executed\n",
      "Number of qubits after encoding: 4\n",
      "Estimated Optimal Assignment: 14\n"
     ]
    }
   ],
   "source": [
    "# Assuming your model is already trained and stored in the 'model' variable\n",
    "\n",
    "# Given transaction lengths\n",
    "given_transaction_lengths =[132.858,125.741,138.806,125.827,134.003,139.252,134.006,129.873,137.17,135.238,149.43,136.5,141.289,139.537,132.815,131.274] \n",
    "\n",
    "# Create a new quantum circuit for each sample\n",
    "quantum_circuit = create_quantum_circuit(num_qubits, depth)\n",
    "print(f\"Number of qubits in quantum circuit: {len(quantum_circuit.qubits)}\")\n",
    "\n",
    "# Encode the amplitudes based on the normalized lengths\n",
    "amplitude_encoding(quantum_circuit, [max(data_lists[sample_index][0])], quantum_circuit.qubits)\n",
    "\n",
    "# Print the size of the qubits list before and after the encoding\n",
    "print(f\"Number of qubits before encoding: {len(quantum_circuit.qubits)}\")\n",
    "amplitude_encoding(quantum_circuit, [max(data_lists[sample_index][0])], quantum_circuit.qubits)\n",
    "print(f\"Number of qubits after encoding: {len(quantum_circuit.qubits)}\")\n",
    "\n",
    "# Convert the quantum circuit to a statevector simulator\n",
    "simulator = Aer.get_backend('statevector_simulator')\n",
    "result = execute(quantum_circuit, simulator).result()\n",
    "statevector = result.get_statevector()\n",
    "\n",
    "# Extract information and estimate optimal assignment (modify as needed)\n",
    "# Assuming the statevector represents a probability distribution over all possible assignments\n",
    "assignment_probabilities = np.abs(statevector) ** 2\n",
    "estimated_assignment = np.argmax(assignment_probabilities)\n",
    "\n",
    "\n",
    "# Print or use the estimated assignment\n",
    "print(f\"Estimated Optimal Assignment: {estimated_assignment}\")\n",
    "\n",
    "\n",
    "quantum_circuit.draw(output='mpl')\n",
    "plt.show()\n",
    "\n",
    "# Visualize the final statevector\n",
    "#result = execute(quantum_circuit, simulator).result()\n",
    "#statevector = result.get_statevector()\n",
    "#plot_histogram(result.get_counts())\n",
    "#plt.show()\n"
   ]
  },
  {
   "cell_type": "code",
   "execution_count": 45,
   "id": "4c408463-cf7b-40c9-b812-416223a3d150",
   "metadata": {
    "tags": []
   },
   "outputs": [
    {
     "name": "stdout",
     "output_type": "stream",
     "text": [
      "Number of qubits in quantum circuit: 4\n",
      "Amplitude Encoding executed\n",
      "Number of qubits before encoding: 4\n",
      "Amplitude Encoding executed\n",
      "Number of qubits after encoding: 4\n",
      "Estimated Optimal Assignment: [1, 1, 1, 1]\n"
     ]
    },
    {
     "name": "stderr",
     "output_type": "stream",
     "text": [
      "/tmp/ipykernel_131/1659587820.py:14: DeprecationWarning: The return type of saved statevectors has been changed from a `numpy.ndarray` to a `qiskit.quantum_info.Statevector` as of qiskit-aer 0.10. Accessing numpy array attributes is deprecated and will result in an error in a future release. To continue using saved result objects as arrays you can explicitly cast them using  `np.asarray(object)`.\n",
      "  num_qubits = int(np.log2(len(statevector)))\n"
     ]
    }
   ],
   "source": [
    "# Assuming your model is already trained and stored in the 'model' variable\n",
    "\n",
    "def extract_optimal_assignment(statevector):\n",
    "    # Assuming the statevector represents a quantum superposition of different assignments\n",
    "    # You need to define a logic to extract the optimal assignment based on the probabilities\n",
    "\n",
    "    # For simplicity, let's assume that the optimal assignment corresponds to the basis state\n",
    "    # with the highest probability in the statevector\n",
    "\n",
    "    probabilities = np.abs(statevector) ** 2  # Calculate probabilities\n",
    "    optimal_assignment = np.argmax(probabilities)  # Find the index with the highest probability\n",
    "\n",
    "    # Convert the index to a binary array representing the basis state\n",
    "    num_qubits = int(np.log2(len(statevector)))\n",
    "    binary_optimal_assignment = format(optimal_assignment, f'0{num_qubits}b')\n",
    "    \n",
    "    # Convert the binary representation to a list of integers\n",
    "    optimal_assignment_list = [int(bit) for bit in binary_optimal_assignment]\n",
    "\n",
    "    return optimal_assignment_list\n",
    "\n",
    "# Given transaction lengths\n",
    "given_transaction_lengths = [132.858, 125.741, 138.806, 125.827, 134.003, 139.252, 134.006, 129.873,\n",
    "                             137.17, 135.238, 149.43, 136.5, 141.289, 139.537, 132.815, 131.274]\n",
    "\n",
    "# Create a new quantum circuit for each sample\n",
    "quantum_circuit = create_quantum_circuit(num_qubits, depth)\n",
    "print(f\"Number of qubits in quantum circuit: {len(quantum_circuit.qubits)}\")\n",
    "\n",
    "# Encode the amplitudes based on the normalized lengths\n",
    "amplitude_encoding(quantum_circuit, [max(given_transaction_lengths)], quantum_circuit.qubits)\n",
    "\n",
    "# Print the size of the qubits list before and after the encoding\n",
    "print(f\"Number of qubits before encoding: {len(quantum_circuit.qubits)}\")\n",
    "amplitude_encoding(quantum_circuit, [max(given_transaction_lengths)], quantum_circuit.qubits)\n",
    "print(f\"Number of qubits after encoding: {len(quantum_circuit.qubits)}\")\n",
    "\n",
    "# Convert the quantum circuit to a statevector simulator\n",
    "simulator = Aer.get_backend('statevector_simulator')\n",
    "result = execute(quantum_circuit, simulator).result()\n",
    "statevector = result.get_statevector()\n",
    "\n",
    "# Extract the optimal assignment using the trained model\n",
    "estimated_assignment = extract_optimal_assignment(statevector)\n",
    "\n",
    "# Print or use the estimated assignment\n",
    "print(f\"Estimated Optimal Assignment: {estimated_assignment}\")\n"
   ]
  },
  {
   "cell_type": "code",
   "execution_count": null,
   "id": "3158a055-d5ae-4a8a-8d2e-cba5bfb35b5b",
   "metadata": {},
   "outputs": [],
   "source": []
  }
 ],
 "metadata": {
  "kernelspec": {
   "display_name": "Qiskit v0.45.2 (ipykernel)",
   "language": "python",
   "name": "python3"
  },
  "language_info": {
   "codemirror_mode": {
    "name": "ipython",
    "version": 3
   },
   "file_extension": ".py",
   "mimetype": "text/x-python",
   "name": "python",
   "nbconvert_exporter": "python",
   "pygments_lexer": "ipython3",
   "version": "3.10.8"
  },
  "widgets": {
   "application/vnd.jupyter.widget-state+json": {
    "state": {},
    "version_major": 2,
    "version_minor": 0
   }
  }
 },
 "nbformat": 4,
 "nbformat_minor": 5
}
